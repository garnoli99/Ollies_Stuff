{
 "cells": [
  {
   "cell_type": "code",
   "execution_count": 7,
   "metadata": {},
   "outputs": [],
   "source": [
    "import pandas as pd\n",
    "from datetime import datetime, timedelta as delta\n",
    "import random\n",
    "import numpy as np\n",
    "\n",
    "import calendar\n",
    "import math\n",
    "import os"
   ]
  },
  {
   "cell_type": "markdown",
   "metadata": {},
   "source": [
    "# Read in probability distributions #\n",
    "\n",
    "Some of the distributions for the script should be generated from survey data specific to the location the trips are being generated for. \n",
    " - Leave home time (weekend / weekday) based on custom probability distribution\n",
    " - parameters for gamma distribution describing distance between home and work\n",
    "\n",
    "Other distributions can use basic assumptions like time spent at work or traffic disruption\n"
   ]
  },
  {
   "cell_type": "code",
   "execution_count": 8,
   "metadata": {},
   "outputs": [],
   "source": [
    "path = path=r\"S:\\E3 Projects\\CEC EPRI V2G\\E3 Modeling\"\n",
    "leave_home_probs = pd.read_csv(path + r'\\NHTS_NE_leave_home_probabilities.csv', header=0, index_col=0)"
   ]
  },
  {
   "cell_type": "markdown",
   "metadata": {},
   "source": [
    "Function requires a list of tuples (time of departure, probability) so will generate this from the data"
   ]
  },
  {
   "cell_type": "code",
   "execution_count": 9,
   "metadata": {},
   "outputs": [],
   "source": [
    "pdf_wkda = [(index, val) for index, val in leave_home_probs['weekday'].iteritems() if index > 4 and index < 11.5]\n",
    "pdf_wked = [(index, val) for index, val in leave_home_probs['weekend'].iteritems() if index > 4.5 and index < 21]"
   ]
  },
  {
   "cell_type": "markdown",
   "metadata": {},
   "source": [
    "# Random Driving Pattern Function #\n",
    "\n",
    "random_distr used to select a value based on a probability of that value occuring\n",
    "\n",
    "rand_gen is the main function used to generate driving profiles "
   ]
  },
  {
   "cell_type": "code",
   "execution_count": 10,
   "metadata": {},
   "outputs": [],
   "source": [
    "def random_distr(pdf):\n",
    "    \n",
    "    \"\"\" Function to use a customised cumulative distribution function with a randomised threshold \n",
    "    \n",
    "    pdf = tuple of sequential values or items and their associated probabilities of occuring, \n",
    "    create a cumulative distribution function from this pdf\"\"\"\n",
    "    \n",
    "    #ransomised threshold\n",
    "    rand_threshold = random.uniform(0, 1)\n",
    "    cumulative_prob = 0\n",
    "    \n",
    "    for value, prob in pdf:\n",
    "        cumulative_prob += prob\n",
    "        if cumulative_prob >= rand_threshold:\n",
    "            return value\n",
    "        elif value == pdf[-1][0]:\n",
    "            value = 9999\n",
    "            \n",
    "    return value"
   ]
  },
  {
   "cell_type": "code",
   "execution_count": 11,
   "metadata": {},
   "outputs": [],
   "source": [
    "def distance_time(leave_home):\n",
    "    \"\"\"Used to increase journey times that start earlier in the day\n",
    "    REVISIT THIS - REVERSE CAUSAL ISSUE: should be make leave home earlier if journey is longer....\n",
    "    Also need to find out where I got  these numbers from!\"\"\"\n",
    "    \n",
    "    dist_factor = -0.07813*leave_home + 1.890625\n",
    "    return dist_factor"
   ]
  },
  {
   "cell_type": "code",
   "execution_count": 12,
   "metadata": {},
   "outputs": [],
   "source": [
    "def check_distance(ev_type, dp, rtrn_jrny):\n",
    "    \"\"\"Checks the drive period does not exceed battery limit\n",
    "    Assumes global parameters: power, hr_per_period, period_per_hr, battery_limit are available\n",
    "    args:\n",
    "    ev_type: 1 = BEV, else PHEV\n",
    "    dp = float representing number of periods driving \n",
    "    rtrn_jrny = if battery is needed to get to destination and back without charging, 2, if charging is present at destination,1 \n",
    "    returms:\n",
    "    electric drive period: number of intervals driving in electric mode\n",
    "    drive_period: number of intervals for journey in total\"\"\"\n",
    "    \n",
    "    if ev_type == 1:\n",
    "        edp = dp\n",
    "        if ((dp*hr_per_period)*power) > (0.8 * (battery_limit / rtrn_jrny)):\n",
    "            dp = (((0.8 * (battery_limit / rtrn_jrny)) / power) * period_per_hr)\n",
    "            edp = (((0.8 * (battery_limit / rtrn_jrny)) / power) * period_per_hr)\n",
    "        drive_period = int(math.ceil(dp))\n",
    "        electric_drive_period = drive_period\n",
    "    else:\n",
    "        drive_period = int(math.ceil(dp))\n",
    "        if ((dp*hr_per_period)*power) > (0.95*(battery_limit/rtrn_jrny)):\n",
    "            edp = (((0.95*(battery_limit / rtrn_jrny)) / power) * period_per_hr)\n",
    "            electric_drive_period = int(math.ceil(edp))\n",
    "        else:\n",
    "            electric_drive_period = drive_period\n",
    "            edp = dp\n",
    "    \n",
    "    return electric_drive_period, edp, drive_period, dp"
   ]
  },
  {
   "cell_type": "code",
   "execution_count": 13,
   "metadata": {},
   "outputs": [],
   "source": [
    "def rand_gen(num_evs, pdf_we, pdf_wd, BEV_PHEV, gam_a=2, gam_b=2.5, gam_c=10, miles_per_period=8.75, power_consumption=12, \n",
    "             battery_size=60, freq=15, year=2017):\n",
    "    \n",
    "    \"\"\" Random EV profile generator\n",
    "    \n",
    "    num_evs = int of total number of ev profiles you want to make\n",
    "    pdf_w_e = probability distribution for time leaving home on a weekend, list of tuples (time leaving, probability)\n",
    "    pdf_w_d = as above but for week day \n",
    "    BEV_PHEV = list of vehicle types, 1 = BEV, 2 = PHEV, list len must match num_evs\n",
    "    gam_a - c = parameters for gamma distribution describing the distance between a drivers home and work location \n",
    "    energy_consumption = average power consumption (kw) during an hour of continuous city driving (~30 mph), \n",
    "                        float or list (size must be same as num_evs)\n",
    "    battery_size = size of EV battery in kWh, default is 75 (if list is passed, size must be same as num_evs)\n",
    "    freq = timestep for time series, 60 = 60 mins per time step, 15 = 15 min per timestep (4 x more timesteps than freq = 60)\n",
    "    year = int of year, to recognise if leap or not\n",
    "    \n",
    "    Output is 3 different dataframes, so need 3 variables to assign to outputs when using this function \"\"\" \n",
    "    \n",
    "    days = 366 if calendar.isleap(year) else 365\n",
    "    home_avail = pd.DataFrame()\n",
    "    work_avail = pd.DataFrame()\n",
    "    driv_disch = pd.DataFrame()\n",
    "    driv_miles = pd.DataFrame()\n",
    "    \n",
    "    global period_per_hr\n",
    "    period_per_hr = (60.0/freq)\n",
    "    global hr_per_period\n",
    "    hr_per_period = (1/period_per_hr)\n",
    "    \n",
    "    print('Creating profiles for ' + str(num_evs) + ' EVs in the year ' + str(year) + ' at ' + str(freq) + ' min timesteps')\n",
    "    \n",
    "    for ev in range(num_evs):\n",
    "               \n",
    "        #create dataframes to fill \n",
    "        home_ev_ts = pd.DataFrame()\n",
    "        work_ev_ts = pd.DataFrame()\n",
    "        drive_ev_ts = pd.DataFrame()\n",
    "        miles_ev_ts = pd.DataFrame()\n",
    "        \n",
    "        #establish EV technical parameters\n",
    "        global power\n",
    "        if type(power_consumption) is not list:\n",
    "            power = power_consumption                \n",
    "        elif num_evs != len(power_consumption):\n",
    "            raise Exception('The power_consumption argument was input as a list so its length must equal the number of EVs!')\n",
    "        else:\n",
    "            power = float(power_consumption[ev])\n",
    "        \n",
    "        if num_evs != len(BEV_PHEV):\n",
    "            raise Exception('The BEV_PHEV argument list must have a length equal to the number of EVs!')\n",
    "        global battery_limit\n",
    "        if type(battery_size) is not list: \n",
    "            battery_limit = battery_size\n",
    "        elif num_evs != len(battery_size):\n",
    "            raise Exception('The battery_size argument was input as a list so its length must equal the number of EVs!')\n",
    "        else:\n",
    "            battery_limit = float(battery_size[ev])\n",
    "        \n",
    "        for day in range(days):\n",
    "\n",
    "            #dataframe of minutes\n",
    "            nminutes = 1440\n",
    "            start = datetime(year, 1,1,0) + delta(days=day)\n",
    "            dates = [start + delta(minutes =x) for x in range(0, nminutes)]\n",
    "            values = 1\n",
    "            tsa = pd.Series(values, index=dates)\n",
    "            ts = tsa.resample(str(freq) +'Min').mean()\n",
    "            ts_h = ts\n",
    "            ts_w = ts-1\n",
    "            ts_dr = ts-1\n",
    "            ts_mdr = ts-1\n",
    "\n",
    "            if start.weekday() > 4:\n",
    "\n",
    "                # WEEKEND - WAHOOO\n",
    "                # Start of day - use custom pdf\n",
    "                pdf_w_e = pdf_we\n",
    "                leave_home = int(random_distr(pdf_w_e)*(period_per_hr))\n",
    "                \n",
    "                # Account for trips futher from home leaving earlier in the day\n",
    "                leave_home_factor = distance_time(leave_home*hr_per_period)\n",
    "\n",
    "                # Drive Period (both ways) resampled, very broad distribution\n",
    "                odp = (np.random.gamma(2,5)/10)*(period_per_hr)* 1 #leave_home_factor\n",
    "               \n",
    "                # Check the energy consumed during trip does not exceed battery limit, only applicable for BEVs\n",
    "                electric_drive_period, edp, drive_period, dp = check_distance(BEV_PHEV[ev], odp, rtrn_jrny=2)\n",
    "            \n",
    "                # out of house period\n",
    "                ohp = np.random.normal(3*period_per_hr, 3*period_per_hr)\n",
    "                if ohp < (1*period_per_hr):\n",
    "                    ohp = (1*period_per_hr)\n",
    "                play_period = int(round(ohp))\n",
    "\n",
    "                #Sum total time out of the house for availability at home\n",
    "                total_period = drive_period + play_period + drive_period\n",
    "                \n",
    "                #time away from home\n",
    "                ts_h[leave_home:(leave_home + total_period)] = 0\n",
    "                #time driving to destination\n",
    "                ts_mdr[leave_home:(leave_home + drive_period)] = ((miles_per_period*dp)/drive_period)\n",
    "                #time driving to destination under electric power\n",
    "                ts_dr[leave_home:(leave_home + electric_drive_period)] = ((power*edp)/electric_drive_period)\n",
    "                #time driving home\n",
    "                ts_mdr[(leave_home + drive_period + play_period):(leave_home + total_period)] = (\n",
    "                    (miles_per_period*dp)/drive_period)\n",
    "                #time driving home under electric power\n",
    "                ts_dr[(leave_home + drive_period + play_period):(leave_home + total_period - drive_period + \n",
    "                                                                 electric_drive_period)] = ((power*edp)/electric_drive_period)\n",
    "\n",
    "            else:\n",
    "\n",
    "                # WORKDAY\n",
    "                # Start of day - use custom pdf\n",
    "                pdf_w_d = pdf_wd\n",
    "                leave_home = int(random_distr(pdf_w_d)*period_per_hr)\n",
    "\n",
    "                # Work Commute Period (wcp) generated based on gamma distribution (every day could be completely different) \n",
    "                wcp = (np.random.gamma(gam_a,gam_b)/gam_c)*period_per_hr # units are freq increments 2, 2.5 is best\n",
    "                if wcp > (2*period_per_hr): # check commute time not crazy long (2 hrs max)\n",
    "                    wcp = (2*period_per_hr)\n",
    "                if wcp < (0.25*period_per_hr): #commute must be at least 15 mins driving\n",
    "                    wcp = (0.25*period_per_hr)\n",
    "                \n",
    "                # WCP adjusted for traffic conditions\n",
    "                odwp = np.random.normal(wcp, wcp/5) #frequency already corrected\n",
    "                if odwp <= (0.08*period_per_hr): #time cannot be less than 5 mins\n",
    "                    odwp = (0.08*period_per_hr)\n",
    "                \n",
    "                electric_drive_work, edwp, drive_work, dwp = check_distance(BEV_PHEV[ev], odwp, rtrn_jrny=2)\n",
    "                \n",
    "                # At work\n",
    "                wp = np.random.normal(9*period_per_hr, 1*period_per_hr)\n",
    "                if wp < (3*period_per_hr): # must be at work for at least 3 hrs\n",
    "                    wp = (3*period_per_hr)\n",
    "                work_period = int(round(wp))\n",
    "\n",
    "                # drive home, vary wcp in same was as for dwp to calculate drive home period\n",
    "                odhp = np.random.normal(wcp, wcp/5) #frequency already correct\n",
    "                if odhp <= (0.08*period_per_hr): #time cannot be less than 5 mins\n",
    "                    odhp = (0.08*period_per_hr)\n",
    "                \n",
    "                electric_drive_home, edhp, drive_home, dhp = check_distance(BEV_PHEV[ev], odhp, rtrn_jrny=2)\n",
    "\n",
    "                #Sum total time out of the house for availability at home\n",
    "                total_period = drive_work + work_period + drive_home\n",
    "                \n",
    "                #time away from home\n",
    "                ts_h[leave_home:(leave_home + total_period)] = 0\n",
    "                #time at work\n",
    "                ts_w[(leave_home + drive_work):(leave_home + drive_work + work_period)] = 1\n",
    "                #time driving to work\n",
    "                ts_mdr[leave_home:(leave_home + drive_work)] = ((miles_per_period*dwp)/drive_work)\n",
    "                #time driving to work under electric power\n",
    "                ts_dr[leave_home:(leave_home + electric_drive_work)] = ((power*edwp)/electric_drive_work)\n",
    "                #time driving home \n",
    "                ts_mdr[(leave_home + drive_work + work_period):(leave_home + total_period)] = (\n",
    "                    (miles_per_period*dhp)/drive_home)\n",
    "                #time driving home under electric power\n",
    "                ts_dr[(leave_home + drive_work + work_period):(leave_home + total_period - drive_home + \n",
    "                                                               electric_drive_home)] = ((power*edhp)/electric_drive_home)\n",
    "\n",
    "            home_ev_ts = pd.concat((home_ev_ts, ts_h), axis=0, ignore_index=False)\n",
    "            work_ev_ts = pd.concat((work_ev_ts, ts_w), axis=0, ignore_index=False)\n",
    "            drive_ev_ts = pd.concat((drive_ev_ts, ts_dr), axis=0, ignore_index=False)\n",
    "            miles_ev_ts = pd.concat((miles_ev_ts, ts_mdr), axis=0, ignore_index=False)\n",
    "        \n",
    "        ev_string = '{}EV_{}'.format(('B' if BEV_PHEV[ev] == 1 else 'PH'), ev+1)\n",
    "        home_ev_ts.columns = [ev_string]\n",
    "        home_avail = pd.concat([home_avail, home_ev_ts], axis=1)\n",
    "        \n",
    "        work_ev_ts.columns = [ev_string]\n",
    "        work_avail = pd.concat([work_avail, work_ev_ts], axis=1)\n",
    "        \n",
    "        drive_ev_ts.columns = [ev_string]\n",
    "        driv_disch = pd.concat([driv_disch, drive_ev_ts], axis=1)\n",
    "        \n",
    "        miles_ev_ts.columns = [ev_string]\n",
    "        driv_miles = pd.concat([driv_miles, miles_ev_ts], axis=1)\n",
    "        \n",
    "        print('{}EV_{} complete'.format(('B' if BEV_PHEV[ev] == 1 else 'PH'), ev+1))\n",
    "        \n",
    "    return work_avail, home_avail, driv_disch, driv_miles"
   ]
  },
  {
   "cell_type": "code",
   "execution_count": 14,
   "metadata": {},
   "outputs": [
    {
     "name": "stdout",
     "output_type": "stream",
     "text": [
      "Creating profiles for 12 EVs in the year 2017 at 15 min timesteps\n",
      "BEV_1 complete\n",
      "BEV_2 complete\n",
      "BEV_3 complete\n",
      "BEV_4 complete\n",
      "BEV_5 complete\n",
      "BEV_6 complete\n",
      "PHEV_7 complete\n",
      "PHEV_8 complete\n",
      "PHEV_9 complete\n",
      "PHEV_10 complete\n",
      "PHEV_11 complete\n",
      "PHEV_12 complete\n"
     ]
    }
   ],
   "source": [
    "work_avail, home_avail, driv_disch, driv_miles = rand_gen(num_evs=12, pdf_we=pdf_wked, pdf_wd=pdf_wkda, gam_b=2, \n",
    "                                                          miles_per_period=6.95,\n",
    "                                                          BEV_PHEV=[1,1,1,1,1,1,2,2,2,2,2,2],\n",
    "                                                          power_consumption=9.235880399,\n",
    "                                                          battery_size=[65,65,65,65,65,65,17,17,17,17,17,17], \n",
    "                                                          freq=15, year=2017)"
   ]
  },
  {
   "cell_type": "code",
   "execution_count": 15,
   "metadata": {},
   "outputs": [
    {
     "data": {
      "text/plain": [
       "BEV_1      10985.949720\n",
       "BEV_2      10295.157784\n",
       "BEV_3       9885.148862\n",
       "BEV_4      10239.089155\n",
       "BEV_5      10515.430910\n",
       "BEV_6      10587.272208\n",
       "PHEV_7     10611.908569\n",
       "PHEV_8     11117.255639\n",
       "PHEV_9     10521.336746\n",
       "PHEV_10    10346.540538\n",
       "PHEV_11    11093.609173\n",
       "PHEV_12    10238.775686\n",
       "dtype: float64"
      ]
     },
     "execution_count": 15,
     "metadata": {},
     "output_type": "execute_result"
    }
   ],
   "source": [
    "driv_miles.sum() #/ (driv_disch.sum() / 4)"
   ]
  },
  {
   "cell_type": "code",
   "execution_count": 16,
   "metadata": {},
   "outputs": [
    {
     "data": {
      "text/plain": [
       "BEV_1      3649.817183\n",
       "BEV_2      3420.318201\n",
       "BEV_3      3284.102612\n",
       "BEV_4      3401.690749\n",
       "BEV_5      3493.498641\n",
       "BEV_6      3517.366182\n",
       "PHEV_7     2918.104727\n",
       "PHEV_8     2990.503255\n",
       "PHEV_9     2946.516021\n",
       "PHEV_10    2804.316299\n",
       "PHEV_11    2990.942863\n",
       "PHEV_12    2812.923048\n",
       "dtype: float64"
      ]
     },
     "execution_count": 16,
     "metadata": {},
     "output_type": "execute_result"
    }
   ],
   "source": [
    "driv_disch.sum() / 4"
   ]
  },
  {
   "cell_type": "code",
   "execution_count": 17,
   "metadata": {},
   "outputs": [],
   "source": [
    "path = r'S:\\E3 Projects\\National Grid EV Regulatory Support\\Research\\Random Driving Pattern Outputs'\n",
    "\n",
    "home_avail.to_csv(os.path.join(path,r'charging_availability.csv'))\n",
    "work_avail.to_csv(os.path.join(path,r'charging_availability_work.csv'))\n",
    "driv_disch.to_csv(os.path.join(path,r'driving_kw.csv'))\n",
    "driv_miles.to_csv(os.path.join(path,r'driving_miles.csv'))"
   ]
  },
  {
   "cell_type": "markdown",
   "metadata": {},
   "source": [
    "# Testing #\n",
    "\n",
    "The following code is all for testing the outputs of the function to see how random and realistic the outputs are. Note that its a lot better to just use one EV for testing purposes!!"
   ]
  },
  {
   "cell_type": "markdown",
   "metadata": {},
   "source": [
    "First test the speed of the function"
   ]
  },
  {
   "cell_type": "code",
   "execution_count": null,
   "metadata": {},
   "outputs": [],
   "source": [
    "pdf_w_e = [(5, 0.0074), (6, 0.0035), (7, 0.01023), (8, 0.02758), (9, 0.05276), (10, 0.07554), \n",
    "            (11,0.0773),(12,0.07098),(13,0.07754)]\n",
    "for i in range(100):\n",
    "    print(int(random_distr(pdf_w_e)))"
   ]
  },
  {
   "cell_type": "code",
   "execution_count": null,
   "metadata": {},
   "outputs": [],
   "source": [
    "%timeit rand_gen(num_evs=4, power_consumption=1.197625, freq=15, year=2016)"
   ]
  },
  {
   "cell_type": "markdown",
   "metadata": {},
   "source": [
    "Run the function (preferably use high number of timesteps"
   ]
  },
  {
   "cell_type": "markdown",
   "metadata": {},
   "source": [
    "# Combine Work and Home #\n",
    "\n",
    "Combine all the function outputs together for easier comparison."
   ]
  },
  {
   "cell_type": "code",
   "execution_count": null,
   "metadata": {},
   "outputs": [],
   "source": [
    "outputs = pd.concat([work_avail, home_avail, driv_disch], axis=1)"
   ]
  },
  {
   "cell_type": "code",
   "execution_count": null,
   "metadata": {},
   "outputs": [],
   "source": [
    "outputs.head(20)"
   ]
  },
  {
   "cell_type": "markdown",
   "metadata": {},
   "source": [
    "## General Tests ##"
   ]
  },
  {
   "cell_type": "markdown",
   "metadata": {},
   "source": [
    "Create day of the week column"
   ]
  },
  {
   "cell_type": "code",
   "execution_count": null,
   "metadata": {},
   "outputs": [],
   "source": [
    "outputs['day_of_week'] = outputs.index.dayofweek"
   ]
  },
  {
   "cell_type": "code",
   "execution_count": null,
   "metadata": {},
   "outputs": [],
   "source": [
    "outputs.describe()"
   ]
  },
  {
   "cell_type": "markdown",
   "metadata": {},
   "source": [
    "At 12pm every day, where is the EV through the year?"
   ]
  },
  {
   "cell_type": "code",
   "execution_count": null,
   "metadata": {},
   "outputs": [],
   "source": [
    "outputs[outputs.index.hour == 12].sum()"
   ]
  },
  {
   "cell_type": "markdown",
   "metadata": {},
   "source": [
    "### Weekend Analysis###\n",
    "Where do people tend to be on weekends?"
   ]
  },
  {
   "cell_type": "code",
   "execution_count": null,
   "metadata": {},
   "outputs": [],
   "source": [
    "outputs[outputs.index.dayofweek > 4].describe()"
   ]
  },
  {
   "cell_type": "markdown",
   "metadata": {},
   "source": [
    "(1 - sum of mean for home and drive should be the average time spent out on weekends) "
   ]
  },
  {
   "cell_type": "code",
   "execution_count": null,
   "metadata": {},
   "outputs": [],
   "source": [
    "1 - outputs[outputs.index.dayofweek > 4]['EV_h_1'].mean() - outputs[outputs.index.dayofweek > 4]['EV_dr_1'].mean()"
   ]
  },
  {
   "cell_type": "markdown",
   "metadata": {},
   "source": [
    "### Week day analysis ###"
   ]
  },
  {
   "cell_type": "code",
   "execution_count": null,
   "metadata": {},
   "outputs": [],
   "source": [
    "outputs[outputs.index.dayofweek < 4].describe()"
   ]
  },
  {
   "cell_type": "markdown",
   "metadata": {},
   "source": [
    "Check that on the weekdays, the location is either work, home, or drive, since they should only be one of those places in the current function. Filter rows so that the sum of all three columns is less than one since during the week there should always be one non-zero column."
   ]
  },
  {
   "cell_type": "code",
   "execution_count": null,
   "metadata": {},
   "outputs": [],
   "source": [
    "outputs.loc[(outputs.index.dayofweek < 5) & (outputs['EV_w_1'] + outputs['EV_h_1'] + outputs['EV_dr_1'] < 1)]"
   ]
  },
  {
   "cell_type": "markdown",
   "metadata": {},
   "source": [
    "## Longest Streaks ##\n",
    "\n",
    "Each set of consecutive values (e.g. streak of 1s or streak of 0s) is a block.\n",
    "\n",
    "group by blocks and then sum to get total hours in each place or total energy spent driving in one session"
   ]
  },
  {
   "cell_type": "code",
   "execution_count": null,
   "metadata": {},
   "outputs": [],
   "source": [
    "outputs['block_w'] = (outputs['EV_w_1'] != outputs['EV_w_1'].shift(1)).astype(int).cumsum() # blocks of consecutive work values\n",
    "x = outputs.groupby('block_w').sum() #.transform(lambda x: range(1, len(x) + 1))"
   ]
  },
  {
   "cell_type": "code",
   "execution_count": null,
   "metadata": {},
   "outputs": [],
   "source": [
    "x.head()"
   ]
  },
  {
   "cell_type": "code",
   "execution_count": null,
   "metadata": {},
   "outputs": [],
   "source": [
    "x.loc[x['EV_w_1'] > 0]['EV_w_1'].describe()"
   ]
  },
  {
   "cell_type": "markdown",
   "metadata": {},
   "source": [
    "Count = numbeer of work sessions (i.e. work days per year)"
   ]
  },
  {
   "cell_type": "code",
   "execution_count": null,
   "metadata": {},
   "outputs": [],
   "source": [
    "import matplotlib.pyplot as plt\n",
    "\n",
    "plot = x.loc[x['EV_w_1']>0]['EV_w_1']\n",
    "count, bins, ignored = plt.hist(plot, 50, normed=True)\n",
    "plt.show()"
   ]
  },
  {
   "cell_type": "markdown",
   "metadata": {},
   "source": [
    "When was the longest day spent at work? Output will be the block number the streak is located in, will then use the block number to find the date "
   ]
  },
  {
   "cell_type": "code",
   "execution_count": null,
   "metadata": {},
   "outputs": [],
   "source": [
    "x.loc[x['EV_w_1'] == x['EV_w_1'].max()].index[0]"
   ]
  },
  {
   "cell_type": "code",
   "execution_count": null,
   "metadata": {},
   "outputs": [],
   "source": [
    "outputs.loc[outputs['block_w'] == x.loc[x['EV_w_1'] == x['EV_w_1'].max()].index[0]]"
   ]
  },
  {
   "cell_type": "markdown",
   "metadata": {},
   "source": [
    "How many work sessions over 8hrs? Remeber to account for frequenecy (so 8 * 60/freq if checking for hrs)"
   ]
  },
  {
   "cell_type": "code",
   "execution_count": null,
   "metadata": {},
   "outputs": [],
   "source": [
    "x[x['EV_w_1'] > 8*4].describe()"
   ]
  },
  {
   "cell_type": "markdown",
   "metadata": {},
   "source": [
    "Check which block max streak located in"
   ]
  },
  {
   "cell_type": "markdown",
   "metadata": {},
   "source": [
    "### Home Streak ###\n",
    "Do same thing for home"
   ]
  },
  {
   "cell_type": "code",
   "execution_count": null,
   "metadata": {},
   "outputs": [],
   "source": [
    "outputs['block_h'] = (outputs['EV_h_1'] != outputs['EV_h_1'].shift(1)).astype(int).cumsum()\n",
    "x = outputs.groupby('block_h').sum()"
   ]
  },
  {
   "cell_type": "code",
   "execution_count": null,
   "metadata": {},
   "outputs": [],
   "source": [
    "x.head()"
   ]
  },
  {
   "cell_type": "code",
   "execution_count": null,
   "metadata": {},
   "outputs": [],
   "source": [
    "x.loc[x['EV_h_1'] > 0]['EV_h_1'].describe()"
   ]
  },
  {
   "cell_type": "markdown",
   "metadata": {},
   "source": [
    "Count will likely be 1+total number of days in year beacause year starts with EV at home and ends with EV at home"
   ]
  },
  {
   "cell_type": "code",
   "execution_count": null,
   "metadata": {},
   "outputs": [],
   "source": [
    "import matplotlib.pyplot as plt\n",
    "\n",
    "plot = x.loc[x['EV_h_1']>0]['EV_h_1']\n",
    "count, bins, ignored = plt.hist(plot, 50, normed=True)\n",
    "plt.show()"
   ]
  },
  {
   "cell_type": "markdown",
   "metadata": {},
   "source": [
    "When did the longest time spent at home occur?"
   ]
  },
  {
   "cell_type": "code",
   "execution_count": null,
   "metadata": {},
   "outputs": [],
   "source": [
    "x.loc[x['EV_h_1'] == x['EV_h_1'].max()].index[0]"
   ]
  },
  {
   "cell_type": "code",
   "execution_count": null,
   "metadata": {},
   "outputs": [],
   "source": [
    "outputs.loc[outputs['block_h'] == x.loc[x['EV_h_1'] == x['EV_h_1'].max()].index[0]].head(50)"
   ]
  },
  {
   "cell_type": "markdown",
   "metadata": {},
   "source": [
    "How many days over 24 hrs at home???"
   ]
  },
  {
   "cell_type": "code",
   "execution_count": null,
   "metadata": {},
   "outputs": [],
   "source": [
    "x[x['EV_h_1'] > 20*4].describe()"
   ]
  },
  {
   "cell_type": "code",
   "execution_count": null,
   "metadata": {},
   "outputs": [],
   "source": [
    "x[x['EV_h_1'] > 20].median()"
   ]
  },
  {
   "cell_type": "markdown",
   "metadata": {},
   "source": [
    "### Driving Energy consumed per drive ###"
   ]
  },
  {
   "cell_type": "code",
   "execution_count": null,
   "metadata": {},
   "outputs": [],
   "source": [
    "outputs['block_dr'] = (outputs['EV_dr_1'] != outputs['EV_dr_1'].shift(1)).astype(int).cumsum()\n",
    "x = outputs.groupby('block_dr').sum()"
   ]
  },
  {
   "cell_type": "code",
   "execution_count": null,
   "metadata": {},
   "outputs": [],
   "source": [
    "x.head()"
   ]
  },
  {
   "cell_type": "code",
   "execution_count": null,
   "metadata": {},
   "outputs": [],
   "source": [
    "x.loc[x['EV_dr_1'] > 0]['EV_dr_1'].describe()"
   ]
  },
  {
   "cell_type": "code",
   "execution_count": null,
   "metadata": {},
   "outputs": [],
   "source": [
    "import matplotlib.pyplot as plt\n",
    "\n",
    "plot = x.loc[x['EV_dr_1']>0]['EV_dr_1'].values\n",
    "count, bins, ignored = plt.hist(plot, 50, normed=True)\n",
    "plt.show()"
   ]
  },
  {
   "cell_type": "markdown",
   "metadata": {},
   "source": [
    "values will be discrete and represent 1hr, 2hrs, 3hrs etc. of driving"
   ]
  },
  {
   "cell_type": "markdown",
   "metadata": {},
   "source": [
    "# Random testing #"
   ]
  },
  {
   "cell_type": "code",
   "execution_count": null,
   "metadata": {},
   "outputs": [],
   "source": [
    "pdf = [(5, 0.1), (6, 0.2), (7, 0.2), (8, 0.3), (9, 0.15), (10, 0.05)]\n",
    "\n",
    "test = {}\n",
    "\n",
    "for i in range(1,1000):\n",
    "    out = random_distr(pdf)\n",
    "    test[i] = out\n",
    "\n",
    "fin = pd.DataFrame(test.items())"
   ]
  },
  {
   "cell_type": "code",
   "execution_count": null,
   "metadata": {},
   "outputs": [],
   "source": [
    "fin.describe()"
   ]
  },
  {
   "cell_type": "code",
   "execution_count": null,
   "metadata": {},
   "outputs": [],
   "source": [
    "outputs['test'] = outputs['EV_dr_1'].apply(lambda x: x > 1)"
   ]
  },
  {
   "cell_type": "code",
   "execution_count": null,
   "metadata": {},
   "outputs": [],
   "source": [
    "outputs['day_of_week'] = outputs.index.dayofweek"
   ]
  },
  {
   "cell_type": "code",
   "execution_count": null,
   "metadata": {},
   "outputs": [],
   "source": []
  }
 ],
 "metadata": {
  "kernelspec": {
   "display_name": "Python 3",
   "language": "python",
   "name": "python3"
  },
  "language_info": {
   "codemirror_mode": {
    "name": "ipython",
    "version": 3
   },
   "file_extension": ".py",
   "mimetype": "text/x-python",
   "name": "python",
   "nbconvert_exporter": "python",
   "pygments_lexer": "ipython3",
   "version": "3.7.0"
  }
 },
 "nbformat": 4,
 "nbformat_minor": 2
}
